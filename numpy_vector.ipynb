{
 "cells": [
  {
   "cell_type": "code",
   "execution_count": 2,
   "metadata": {
    "collapsed": true
   },
   "outputs": [],
   "source": [
    "import numpy as np\n",
    "import pprint "
   ]
  },
  {
   "cell_type": "code",
   "execution_count": 3,
   "metadata": {
    "collapsed": true
   },
   "outputs": [],
   "source": [
    "class Numpy_Vector:\n",
    "    \n",
    "    def __init__(self):\n",
    "        self.x = []\n",
    "        self.y = []\n",
    "        \n",
    "    def __str__(self):\n",
    "        pprint.pprint(\"X:\", self.x)\n",
    "        pprint.pprint(\"Y:\", self.y)\n",
    "    \n",
    "    def add(self, other):\n",
    "        return\n",
    "    \n",
    "    def subtract(self, other):\n",
    "        return\n",
    "    \n",
    "    def mul(self, other):\n",
    "        return\n",
    "    \n",
    "    def divide(self, other):\n",
    "        return\n",
    "    \n",
    "    \n",
    "    "
   ]
  },
  {
   "cell_type": "code",
   "execution_count": 7,
   "metadata": {},
   "outputs": [
    {
     "name": "stdout",
     "output_type": "stream",
     "text": [
      "'Hello'\n"
     ]
    }
   ],
   "source": [
    "pprint.pprint(\"Hello\")"
   ]
  },
  {
   "cell_type": "code",
   "execution_count": null,
   "metadata": {
    "collapsed": true
   },
   "outputs": [],
   "source": []
  }
 ],
 "metadata": {
  "kernelspec": {
   "display_name": "Python 3",
   "language": "python",
   "name": "python3"
  },
  "language_info": {
   "codemirror_mode": {
    "name": "ipython",
    "version": 3
   },
   "file_extension": ".py",
   "mimetype": "text/x-python",
   "name": "python",
   "nbconvert_exporter": "python",
   "pygments_lexer": "ipython3",
   "version": "3.8.2"
  }
 },
 "nbformat": 4,
 "nbformat_minor": 2
}
