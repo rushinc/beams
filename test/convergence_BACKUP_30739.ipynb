{
 "cells": [
  {
   "cell_type": "markdown",
   "metadata": {},
   "source": [
    "# Convergence and performance"
   ]
  },
  {
   "cell_type": "markdown",
   "metadata": {},
   "source": [
    "To optimize simulation time vs accuracy, an estimate of the acaling of the algorithm is required. For this purpose, there are two methods provided in the `Cell` and the `Layer` classes.\n",
    "\n",
    "Below a simple example is set up to quickly run these tests. The structure here is a 300 nm layer of silicon on glass with cylindrical air holes arranged in a square lattice of periodicity 1 μm."
   ]
  },
  {
   "cell_type": "code",
   "execution_count": null,
   "metadata": {
    "collapsed": true
   },
   "outputs": [],
   "source": [
    "import sys\n",
    "sys.path.append('../../') # Modify this line\n",
    "\n",
    "import beams as bm\n",
    "import numpy as np\n",
    "from time import time\n",
    "import matplotlib.pyplot as plt\n",
    "\n",
    "p = bm.Vector2d(1, 1)\n",
    "\n",
    "air = bm.Material()\n",
    "si = bm.Material(index=3.4) \n",
    "sio2 = bm.Material(epsilon=1.5 ** 2)\n",
    "\n",
    "hole = bm.Ellipse(r=.3, material=air) \n",
    "phc = bm.Layer(h=.3, material=si, shapes=[hole], resolution=500)"
   ]
  },
  {
   "cell_type": "markdown",
   "metadata": {},
   "source": [
    "## Linear algebra\n",
    "\n",
    "The size of the linear algebra problems is determined by the number of modes $N$. The accuracy and performance of `Layer.compute_eigs` and `Cell.linsolve` methods can be obtained using `Cell.convergence`.\n",
    "\n",
    "#### Parameters\n",
    "- `N_max`: The maximum number of modes to compute upto. The method will run the simulation for every odd integer from 1 to `N_max`.\n",
    "- `**kwargs`: The frequency and angles that are passed to the `Cell.R_T()` method."
   ]
  },
  {
   "cell_type": "code",
<<<<<<< HEAD
   "execution_count": 4,
=======
   "execution_count": 116,
>>>>>>> fb0782e1f4ca7c8131136dbce57b02444d51264c
   "metadata": {},
   "outputs": [
    {
     "name": "stdout",
     "output_type": "stream",
     "text": [
      "EPS: (1, 1)\n",
      "N = (1, 1): R = 0.20595, T = 0.82672\n",
<<<<<<< HEAD
      "0.135s taken per iteration.\n",
      "N = (3, 3): R = 0.72762, T = 0.27238\n",
      "0.206s taken per iteration.\n",
      "N = (5, 5): R = 0.74656, T = 0.25344\n",
      "0.352s taken per iteration.\n",
      "N = (7, 7): R = 0.63095, T = 0.36905\n",
      "0.967s taken per iteration.\n",
      "N = (9, 9): R = 0.61906, T = 0.38094\n",
      "1.517s taken per iteration.\n",
      "N = (11, 11): R = 0.61294, T = 0.38706\n",
      "2.484s taken per iteration.\n",
      "N = (13, 13): R = 0.61003, T = 0.38997\n",
      "4.312s taken per iteration.\n",
      "N = (15, 15): R = 0.60809, T = 0.39191\n",
      "7.451s taken per iteration.\n"
=======
      "1.715s taken per iteration.\n",
      "EPS: (9, 9)\n",
      "N = (3, 3): R = 0.72762, T = 0.27238\n",
      "1.075s taken per iteration.\n",
      "EPS: (25, 25)\n",
      "N = (5, 5): R = 0.74656, T = 0.25344\n",
      "0.096s taken per iteration.\n",
      "EPS: (49, 49)\n",
      "N = (7, 7): R = 0.63095, T = 0.36905\n",
      "0.181s taken per iteration.\n",
      "EPS: (81, 81)\n",
      "N = (9, 9): R = 0.61906, T = 0.38094\n",
      "0.359s taken per iteration.\n",
      "EPS: (121, 121)\n",
      "N = (11, 11): R = 0.61294, T = 0.38706\n",
      "0.62s taken per iteration.\n",
      "EPS: (169, 169)\n",
      "N = (13, 13): R = 0.61003, T = 0.38997\n",
      "1.237s taken per iteration.\n",
      "EPS: (225, 225)\n"
     ]
    },
    {
     "ename": "KeyboardInterrupt",
     "evalue": "",
     "output_type": "error",
     "traceback": [
      "\u001b[0;31m---------------------------------------------------------------------------\u001b[0m",
      "\u001b[0;31mKeyboardInterrupt\u001b[0m                         Traceback (most recent call last)",
      "\u001b[0;32m<ipython-input-116-fc720f0b0927>\u001b[0m in \u001b[0;36m<module>\u001b[0;34m()\u001b[0m\n\u001b[1;32m      7\u001b[0m \u001b[0;34m\u001b[0m\u001b[0m\n\u001b[1;32m      8\u001b[0m \u001b[0mN_max\u001b[0m \u001b[0;34m=\u001b[0m \u001b[0;36m35\u001b[0m\u001b[0;34m\u001b[0m\u001b[0;34m\u001b[0m\u001b[0m\n\u001b[0;32m----> 9\u001b[0;31m \u001b[0;34m(\u001b[0m\u001b[0mRT\u001b[0m\u001b[0;34m,\u001b[0m \u001b[0mtt\u001b[0m\u001b[0;34m)\u001b[0m \u001b[0;34m=\u001b[0m \u001b[0mcell\u001b[0m\u001b[0;34m.\u001b[0m\u001b[0mconvergence\u001b[0m\u001b[0;34m(\u001b[0m\u001b[0mN_max\u001b[0m\u001b[0;34m,\u001b[0m \u001b[0mfreq\u001b[0m\u001b[0;34m=\u001b[0m\u001b[0mf\u001b[0m\u001b[0;34m,\u001b[0m \u001b[0mangles\u001b[0m\u001b[0;34m=\u001b[0m\u001b[0ma\u001b[0m\u001b[0;34m)\u001b[0m\u001b[0;34m\u001b[0m\u001b[0;34m\u001b[0m\u001b[0m\n\u001b[0m",
      "\u001b[0;32m~/Documents/University of California, Berkeley/Spring 2020/COMPSCI 267/beams/solver.py\u001b[0m in \u001b[0;36mconvergence\u001b[0;34m(self, N_max, **kwargs)\u001b[0m\n\u001b[1;32m    364\u001b[0m             \u001b[0mself\u001b[0m\u001b[0;34m.\u001b[0m\u001b[0mN\u001b[0m \u001b[0;34m=\u001b[0m \u001b[0mn\u001b[0m\u001b[0;34m\u001b[0m\u001b[0;34m\u001b[0m\u001b[0m\n\u001b[1;32m    365\u001b[0m             \u001b[0mt0\u001b[0m \u001b[0;34m=\u001b[0m \u001b[0mtime\u001b[0m\u001b[0;34m.\u001b[0m\u001b[0mtime\u001b[0m\u001b[0;34m(\u001b[0m\u001b[0;34m)\u001b[0m\u001b[0;34m\u001b[0m\u001b[0;34m\u001b[0m\u001b[0m\n\u001b[0;32m--> 366\u001b[0;31m             \u001b[0;34m(\u001b[0m\u001b[0mR\u001b[0m\u001b[0;34m[\u001b[0m\u001b[0mi\u001b[0m\u001b[0;34m]\u001b[0m\u001b[0;34m,\u001b[0m \u001b[0mT\u001b[0m\u001b[0;34m[\u001b[0m\u001b[0mi\u001b[0m\u001b[0;34m]\u001b[0m\u001b[0;34m)\u001b[0m \u001b[0;34m=\u001b[0m \u001b[0mself\u001b[0m\u001b[0;34m.\u001b[0m\u001b[0mR_T\u001b[0m\u001b[0;34m(\u001b[0m\u001b[0;34m**\u001b[0m\u001b[0mkwargs\u001b[0m\u001b[0;34m)\u001b[0m\u001b[0;34m\u001b[0m\u001b[0;34m\u001b[0m\u001b[0m\n\u001b[0m\u001b[1;32m    367\u001b[0m             print('N = ' + str(n) + ': R = ' + str(round(R[i], 5)) +\n\u001b[1;32m    368\u001b[0m                     ', T = ' + str(round(T[i], 5)))\n",
      "\u001b[0;32m~/Documents/University of California, Berkeley/Spring 2020/COMPSCI 267/beams/solver.py\u001b[0m in \u001b[0;36mR_T\u001b[0;34m(self, freq, angles)\u001b[0m\n\u001b[1;32m    276\u001b[0m     \u001b[0;32mdef\u001b[0m \u001b[0mR_T\u001b[0m\u001b[0;34m(\u001b[0m\u001b[0mself\u001b[0m\u001b[0;34m,\u001b[0m \u001b[0mfreq\u001b[0m\u001b[0;34m=\u001b[0m\u001b[0;32mNone\u001b[0m\u001b[0;34m,\u001b[0m \u001b[0mangles\u001b[0m\u001b[0;34m=\u001b[0m\u001b[0;32mNone\u001b[0m\u001b[0;34m)\u001b[0m\u001b[0;34m:\u001b[0m\u001b[0;34m\u001b[0m\u001b[0;34m\u001b[0m\u001b[0m\n\u001b[1;32m    277\u001b[0m         \u001b[0mN_t\u001b[0m \u001b[0;34m=\u001b[0m \u001b[0mself\u001b[0m\u001b[0;34m.\u001b[0m\u001b[0mN_t\u001b[0m\u001b[0;34m\u001b[0m\u001b[0;34m\u001b[0m\u001b[0m\n\u001b[0;32m--> 278\u001b[0;31m         \u001b[0;34m(\u001b[0m\u001b[0mr\u001b[0m\u001b[0;34m,\u001b[0m \u001b[0mt\u001b[0m\u001b[0;34m)\u001b[0m \u001b[0;34m=\u001b[0m \u001b[0mself\u001b[0m\u001b[0;34m.\u001b[0m\u001b[0mdiffraction_orders\u001b[0m\u001b[0;34m(\u001b[0m\u001b[0mfreq\u001b[0m\u001b[0;34m,\u001b[0m \u001b[0mangles\u001b[0m\u001b[0;34m)\u001b[0m\u001b[0;34m\u001b[0m\u001b[0;34m\u001b[0m\u001b[0m\n\u001b[0m\u001b[1;32m    279\u001b[0m         \u001b[0mg_r\u001b[0m \u001b[0;34m=\u001b[0m \u001b[0mself\u001b[0m\u001b[0;34m.\u001b[0m\u001b[0mlayers\u001b[0m\u001b[0;34m[\u001b[0m\u001b[0;36m0\u001b[0m\u001b[0;34m]\u001b[0m\u001b[0;34m.\u001b[0m\u001b[0mgamma\u001b[0m\u001b[0;34m[\u001b[0m\u001b[0;34m:\u001b[0m\u001b[0mN_t\u001b[0m\u001b[0;34m]\u001b[0m\u001b[0;34m\u001b[0m\u001b[0;34m\u001b[0m\u001b[0m\n\u001b[1;32m    280\u001b[0m         \u001b[0mg_t\u001b[0m \u001b[0;34m=\u001b[0m \u001b[0mself\u001b[0m\u001b[0;34m.\u001b[0m\u001b[0mlayers\u001b[0m\u001b[0;34m[\u001b[0m\u001b[0;34m-\u001b[0m\u001b[0;36m1\u001b[0m\u001b[0;34m]\u001b[0m\u001b[0;34m.\u001b[0m\u001b[0mgamma\u001b[0m\u001b[0;34m[\u001b[0m\u001b[0;34m:\u001b[0m\u001b[0mN_t\u001b[0m\u001b[0;34m]\u001b[0m\u001b[0;34m\u001b[0m\u001b[0;34m\u001b[0m\u001b[0m\n",
      "\u001b[0;32m~/Documents/University of California, Berkeley/Spring 2020/COMPSCI 267/beams/solver.py\u001b[0m in \u001b[0;36mdiffraction_orders\u001b[0;34m(self, freq, angles)\u001b[0m\n\u001b[1;32m    260\u001b[0m             \u001b[0mself\u001b[0m\u001b[0;34m.\u001b[0m\u001b[0mbuild\u001b[0m\u001b[0;34m(\u001b[0m\u001b[0mfreq\u001b[0m\u001b[0;34m,\u001b[0m \u001b[0mk\u001b[0m\u001b[0;34m)\u001b[0m\u001b[0;34m\u001b[0m\u001b[0;34m\u001b[0m\u001b[0m\n\u001b[1;32m    261\u001b[0m             \u001b[0mb\u001b[0m \u001b[0;34m=\u001b[0m \u001b[0mself\u001b[0m\u001b[0;34m.\u001b[0m\u001b[0m__excitation\u001b[0m\u001b[0;34m(\u001b[0m\u001b[0mu\u001b[0m\u001b[0;34m)\u001b[0m\u001b[0;34m\u001b[0m\u001b[0;34m\u001b[0m\u001b[0m\n\u001b[0;32m--> 262\u001b[0;31m             \u001b[0mself\u001b[0m\u001b[0;34m.\u001b[0m\u001b[0mlinsolve\u001b[0m\u001b[0;34m(\u001b[0m\u001b[0mfreq\u001b[0m\u001b[0;34m,\u001b[0m \u001b[0mk\u001b[0m\u001b[0;34m,\u001b[0m \u001b[0mb\u001b[0m\u001b[0;34m)\u001b[0m\u001b[0;34m\u001b[0m\u001b[0;34m\u001b[0m\u001b[0m\n\u001b[0m\u001b[1;32m    263\u001b[0m \u001b[0;34m\u001b[0m\u001b[0m\n\u001b[1;32m    264\u001b[0m         \u001b[0mg_r\u001b[0m \u001b[0;34m=\u001b[0m \u001b[0mself\u001b[0m\u001b[0;34m.\u001b[0m\u001b[0mlayers\u001b[0m\u001b[0;34m[\u001b[0m\u001b[0;36m0\u001b[0m\u001b[0;34m]\u001b[0m\u001b[0;34m.\u001b[0m\u001b[0mgamma\u001b[0m\u001b[0;34m[\u001b[0m\u001b[0;34m:\u001b[0m\u001b[0mN_t\u001b[0m\u001b[0;34m]\u001b[0m\u001b[0;34m\u001b[0m\u001b[0;34m\u001b[0m\u001b[0m\n",
      "\u001b[0;32m~/Documents/University of California, Berkeley/Spring 2020/COMPSCI 267/beams/solver.py\u001b[0m in \u001b[0;36mlinsolve\u001b[0;34m(self, freq, k, b)\u001b[0m\n\u001b[1;32m    154\u001b[0m             \u001b[0mself\u001b[0m\u001b[0;34m.\u001b[0m\u001b[0mbuild\u001b[0m\u001b[0;34m(\u001b[0m\u001b[0mfreq\u001b[0m\u001b[0;34m,\u001b[0m \u001b[0mk\u001b[0m\u001b[0;34m)\u001b[0m\u001b[0;34m\u001b[0m\u001b[0;34m\u001b[0m\u001b[0m\n\u001b[1;32m    155\u001b[0m \u001b[0;34m\u001b[0m\u001b[0m\n\u001b[0;32m--> 156\u001b[0;31m         \u001b[0mC\u001b[0m \u001b[0;34m=\u001b[0m \u001b[0mla\u001b[0m\u001b[0;34m.\u001b[0m\u001b[0msolve\u001b[0m\u001b[0;34m(\u001b[0m\u001b[0mself\u001b[0m\u001b[0;34m.\u001b[0m\u001b[0mB\u001b[0m\u001b[0;34m,\u001b[0m \u001b[0mb\u001b[0m\u001b[0;34m)\u001b[0m\u001b[0;34m\u001b[0m\u001b[0;34m\u001b[0m\u001b[0m\n\u001b[0m\u001b[1;32m    157\u001b[0m         \u001b[0mself\u001b[0m\u001b[0;34m.\u001b[0m\u001b[0m_C\u001b[0m \u001b[0;34m=\u001b[0m \u001b[0mnp\u001b[0m\u001b[0;34m.\u001b[0m\u001b[0mreshape\u001b[0m\u001b[0;34m(\u001b[0m\u001b[0mC\u001b[0m\u001b[0;34m,\u001b[0m \u001b[0;34m(\u001b[0m\u001b[0;36m4\u001b[0m \u001b[0;34m*\u001b[0m \u001b[0mN_t\u001b[0m\u001b[0;34m,\u001b[0m \u001b[0mL\u001b[0m \u001b[0;34m+\u001b[0m \u001b[0;36m1\u001b[0m\u001b[0;34m)\u001b[0m\u001b[0;34m,\u001b[0m \u001b[0morder\u001b[0m\u001b[0;34m=\u001b[0m\u001b[0;34m'F'\u001b[0m\u001b[0;34m)\u001b[0m\u001b[0;34m\u001b[0m\u001b[0;34m\u001b[0m\u001b[0m\n\u001b[1;32m    158\u001b[0m         \u001b[0mself\u001b[0m\u001b[0;34m.\u001b[0m\u001b[0m_C\u001b[0m\u001b[0;34m[\u001b[0m\u001b[0;36m2\u001b[0m \u001b[0;34m*\u001b[0m \u001b[0mN_t\u001b[0m\u001b[0;34m:\u001b[0m\u001b[0;36m4\u001b[0m \u001b[0;34m*\u001b[0m \u001b[0mN_t\u001b[0m\u001b[0;34m,\u001b[0m \u001b[0mL\u001b[0m \u001b[0;34m-\u001b[0m \u001b[0;36m1\u001b[0m\u001b[0;34m]\u001b[0m \u001b[0;34m=\u001b[0m \u001b[0mnp\u001b[0m\u001b[0;34m.\u001b[0m\u001b[0mzeros\u001b[0m\u001b[0;34m(\u001b[0m\u001b[0;36m2\u001b[0m \u001b[0;34m*\u001b[0m \u001b[0mN_t\u001b[0m\u001b[0;34m,\u001b[0m \u001b[0mdtype\u001b[0m\u001b[0;34m=\u001b[0m\u001b[0mcomplex\u001b[0m\u001b[0;34m)\u001b[0m\u001b[0;34m\u001b[0m\u001b[0;34m\u001b[0m\u001b[0m\n",
      "\u001b[0;32m~/anaconda3/lib/python3.6/site-packages/scipy/linalg/basic.py\u001b[0m in \u001b[0;36msolve\u001b[0;34m(a, b, sym_pos, lower, overwrite_a, overwrite_b, debug, check_finite, assume_a, transposed)\u001b[0m\n\u001b[1;32m    213\u001b[0m         gecon, getrf, getrs = get_lapack_funcs(('gecon', 'getrf', 'getrs'),\n\u001b[1;32m    214\u001b[0m                                                (a1, b1))\n\u001b[0;32m--> 215\u001b[0;31m         \u001b[0mlu\u001b[0m\u001b[0;34m,\u001b[0m \u001b[0mipvt\u001b[0m\u001b[0;34m,\u001b[0m \u001b[0minfo\u001b[0m \u001b[0;34m=\u001b[0m \u001b[0mgetrf\u001b[0m\u001b[0;34m(\u001b[0m\u001b[0ma1\u001b[0m\u001b[0;34m,\u001b[0m \u001b[0moverwrite_a\u001b[0m\u001b[0;34m=\u001b[0m\u001b[0moverwrite_a\u001b[0m\u001b[0;34m)\u001b[0m\u001b[0;34m\u001b[0m\u001b[0;34m\u001b[0m\u001b[0m\n\u001b[0m\u001b[1;32m    216\u001b[0m         \u001b[0m_solve_check\u001b[0m\u001b[0;34m(\u001b[0m\u001b[0mn\u001b[0m\u001b[0;34m,\u001b[0m \u001b[0minfo\u001b[0m\u001b[0;34m)\u001b[0m\u001b[0;34m\u001b[0m\u001b[0;34m\u001b[0m\u001b[0m\n\u001b[1;32m    217\u001b[0m         x, info = getrs(lu, ipvt, b1,\n",
      "\u001b[0;31mKeyboardInterrupt\u001b[0m: "
>>>>>>> fb0782e1f4ca7c8131136dbce57b02444d51264c
     ]
    }
   ],
   "source": [
    "inc = bm.Layer()\n",
    "sub = bm.Layer(material=sio2)\n",
    "cell = bm.Cell(period=p, N=5, layers=[inc, phc, sub])\n",
    "\n",
    "f = 0.75\n",
    "a = bm.Vector3d(np.pi / 3, np.pi / 6, np.pi / 2)\n",
    "\n",
    "N_max = 15\n",
    "(RT, tt) = cell.convergence(N_max, freq=f, angles=a)"
   ]
  },
  {
   "cell_type": "code",
<<<<<<< HEAD
   "execution_count": 5,
   "metadata": {},
   "outputs": [
    {
     "data": {
      "image/png": "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\n",
      "text/plain": [
       "<Figure size 921.6x345.6 with 2 Axes>"
      ]
     },
     "metadata": {
      "needs_background": "light"
     },
     "output_type": "display_data"
    }
   ],
=======
   "execution_count": null,
   "metadata": {
    "collapsed": true
   },
   "outputs": [],
>>>>>>> fb0782e1f4ca7c8131136dbce57b02444d51264c
   "source": [
    "fig, ax = plt.subplots(ncols=2, figsize=[12.8, 4.8])\n",
    "ni = np.arange(1, N_max + 1, 2) ** 2\n",
    "\n",
    "ax[0].loglog(ni[1:], np.abs(np.diff(RT[0])), linewidth=2)\n",
    "ax[0].set_xlabel('Number of modes')\n",
    "ax[0].set_ylabel('Error')\n",
    "\n",
    "ax[1].loglog(ni, tt, linewidth=2)\n",
    "ax[1].set_xlabel('Number of modes')\n",
    "ax[1].set_ylabel('Time (s)')\n",
    "plt.show()"
   ]
  },
  {
   "cell_type": "markdown",
   "metadata": {},
   "source": [
    "## FFT\n",
    "\n",
    "The scaling of the FFT can be obtained through the `Layer.fft_convergence` method which returns a tuple of the time taken for each computation and the maximum difference in the norms of the FFT matrices compared to the previous computation.\n",
    "\n",
    "#### Parameters\n",
    "- `max_res`: The maximum resolution to compute the FFT for.\n",
    "- `n_res`: The number of steps in the resolution from the minimum i.e. $2N-1$ to `max_res`.\n",
    "- `N`: Defines the minimum resolution and truncates the central $2N-1$ orders from the FFT solution.\n",
    "- `period`: The period of the lattice. Increasing the period will also increase size of grid if resolution is constant.\n",
    "- `n_iter=3`: The number of computations over which the time is averaged."
   ]
  },
  {
   "cell_type": "code",
   "execution_count": null,
<<<<<<< HEAD
   "metadata": {},
=======
   "metadata": {
    "collapsed": true
   },
>>>>>>> fb0782e1f4ca7c8131136dbce57b02444d51264c
   "outputs": [],
   "source": [
    "m_res = 1e4\n",
    "n = 25\n",
    "N = 11\n",
    "(err, T) = phc.fft_convergence(m_res, n, N, p, 1)"
   ]
  },
  {
   "cell_type": "markdown",
   "metadata": {},
   "source": [
    "Since the values are stored, the scaling and accuracy can be quickly visualized."
   ]
  },
  {
   "cell_type": "code",
   "execution_count": null,
   "metadata": {
    "collapsed": true
   },
   "outputs": [],
   "source": [
    "fig, ax = plt.subplots(ncols=2, figsize=[12.8, 4.8])\n",
    "ri = np.linspace(2 * N - 1, m_res, n)\n",
    "\n",
    "ax[0].loglog(ri, err, linewidth=2)\n",
    "ax[0].set_xlabel('Resolution (px/μm)')\n",
    "ax[0].set_ylabel('Error')\n",
    "\n",
    "ax[1].loglog(ri, T, linewidth=2)\n",
    "ax[1].set_xlabel('Resolution (px/μm)')\n",
    "ax[1].set_ylabel('Time (s)')\n",
    "plt.show()"
   ]
  },
  {
   "cell_type": "markdown",
   "metadata": {},
   "source": [
    "## Parallelism Trials"
   ]
  },
  {
   "cell_type": "code",
   "execution_count": 155,
   "metadata": {},
   "outputs": [],
   "source": [
    "from numba import njit, jit\n",
    "from numba import prange\n",
    "import numba\n",
    "import time\n",
    "import sys\n",
    "sys.path.append('../../') # Modify this line\n",
    "\n",
    "import beams as bm\n",
    "import numpy as np\n",
    "import matplotlib.pyplot as plt\n",
    "\n",
    "# from cython.parallel import prange\n",
    "import numexpr as ne\n",
    "import os"
   ]
  },
  {
   "cell_type": "code",
   "execution_count": 74,
   "metadata": {},
   "outputs": [],
   "source": [
    "a = np.random.random((10000, 10, 10))\n",
    "b = np.copy(a)\n",
    "c = np.copy(a)\n",
    "d = np.copy(a)"
   ]
  },
  {
   "cell_type": "markdown",
   "metadata": {},
   "source": [
    "### Using Concurrent Futures"
   ]
  },
  {
   "cell_type": "code",
   "execution_count": 75,
   "metadata": {
    "collapsed": true
   },
   "outputs": [],
   "source": [
    "def future_done(r, i, a):\n",
    "    a[i] = r.result()"
   ]
  },
  {
   "cell_type": "code",
   "execution_count": 85,
   "metadata": {},
   "outputs": [
    {
     "name": "stdout",
     "output_type": "stream",
     "text": [
      "0.7671740055084229\n"
     ]
    }
   ],
   "source": [
    "from concurrent import futures\n",
    "import functools\n",
    "\n",
    "before = time.time()\n",
    "with futures.ThreadPoolExecutor(max_workers=128) as executor:\n",
    "    for i in prange(a.shape[0], nogil=True):\n",
    "        future_result = executor.submit(lapack_inverse, a[i])\n",
    "        future_result.add_done_callback(functools.partial(future_done, i=i, a=a))\n",
    "after = time.time()\n",
    "print(after - before)"
   ]
  },
  {
   "cell_type": "markdown",
   "metadata": {},
   "source": [
    "### Using Cython, OpenMP and prange"
   ]
  },
  {
   "cell_type": "code",
   "execution_count": 167,
   "metadata": {},
   "outputs": [
    {
     "name": "stdout",
     "output_type": "stream",
     "text": [
      "0.134796142578125\n"
     ]
    }
   ],
   "source": [
    "from cython.parallel import prange\n",
    "import cython\n",
    "\n",
    "before = time.time()\n",
    "for i in prange(a.shape[0], nogil=True, schedule='static'):\n",
    "    a[i] = lapack_inverse(a[i])\n",
    "after = time.time()\n",
    "print(after - before)"
   ]
  },
  {
   "cell_type": "markdown",
   "metadata": {},
   "source": [
    "### Using LAPACK"
   ]
  },
  {
   "cell_type": "code",
   "execution_count": 149,
   "metadata": {},
   "outputs": [],
   "source": [
    "from scipy.linalg import lapack\n",
    "import timeit"
   ]
  },
  {
   "cell_type": "code",
   "execution_count": 156,
   "metadata": {
    "collapsed": true
   },
   "outputs": [],
   "source": [
    "def lapack_inverse(a):\n",
    "    b = np.eye(a.shape[0], dtype=a.dtype)\n",
    "    _, _, x, _ = lapack.dgesv(a, b)\n",
    "    return x"
   ]
  },
  {
   "cell_type": "code",
   "execution_count": 164,
   "metadata": {},
   "outputs": [
    {
     "name": "stdout",
     "output_type": "stream",
     "text": [
      "0.1595761775970459\n"
     ]
    }
   ],
   "source": [
    "before = time.time()\n",
    "[lapack_inverse(b[i]) for i in range(b.shape[0])]\n",
    "after = time.time()\n",
    "print(after - before)"
   ]
  },
  {
   "cell_type": "code",
   "execution_count": 170,
   "metadata": {},
   "outputs": [
    {
     "name": "stdout",
     "output_type": "stream",
     "text": [
      "0.23099589347839355\n"
     ]
    }
   ],
   "source": [
    "before = time.time()\n",
    "for i in range(c.shape[0]):\n",
    "    c[i, :, :] = np.linalg.inv(c[i])\n",
    "after = time.time()\n",
    "print(after - before)"
   ]
  },
  {
   "cell_type": "code",
   "execution_count": null,
   "metadata": {
    "collapsed": true
   },
   "outputs": [],
   "source": []
  }
 ],
 "metadata": {
  "kernelspec": {
   "display_name": "Python 3",
   "language": "python",
   "name": "python3"
  },
  "language_info": {
   "codemirror_mode": {
    "name": "ipython",
    "version": 3
   },
   "file_extension": ".py",
   "mimetype": "text/x-python",
   "name": "python",
   "nbconvert_exporter": "python",
   "pygments_lexer": "ipython3",
   "version": "3.6.7"
  }
 },
 "nbformat": 4,
 "nbformat_minor": 2
}
