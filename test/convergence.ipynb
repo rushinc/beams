{
 "cells": [
  {
   "cell_type": "markdown",
   "metadata": {},
   "source": [
    "# Convergence and performance"
   ]
  },
  {
   "cell_type": "markdown",
   "metadata": {},
   "source": [
    "To optimize simulation time vs accuracy, an estimate of the acaling of the algorithm is required. For this purpose, there are two methods provided in the `Cell` and the `Layer` classes.\n",
    "\n",
    "Below a simple example is set up to quickly run these tests. The structure here is a 300 nm layer of silicon on glass with cylindrical air holes arranged in a square lattice of periodicity 1 μm."
   ]
  },
  {
   "cell_type": "code",
   "execution_count": null,
   "metadata": {
    "collapsed": true
   },
   "outputs": [],
   "source": [
    "import sys\n",
    "sys.path.append('../../') # Modify this line\n",
    "\n",
    "import beams as bm\n",
    "import numpy as np\n",
    "from time import time\n",
    "import matplotlib.pyplot as plt\n",
    "\n",
    "p = bm.Vector2d(1, 1)\n",
    "\n",
    "air = bm.Material()\n",
    "si = bm.Material(index=3.4) \n",
    "sio2 = bm.Material(epsilon=1.5 ** 2)\n",
    "\n",
    "hole = bm.Ellipse(r=.3, material=air) \n",
    "phc = bm.Layer(h=.3, material=si, shapes=[hole], resolution=500)"
   ]
  },
  {
   "cell_type": "markdown",
   "metadata": {},
   "source": [
    "## Linear algebra\n",
    "\n",
    "The size of the linear algebra problems is determined by the number of modes $N$. The accuracy and performance of `Layer.compute_eigs` and `Cell.linsolve` methods can be obtained using `Cell.convergence`.\n",
    "\n",
    "#### Parameters\n",
    "- `N_max`: The maximum number of modes to compute upto. The method will run the simulation for every odd integer from 1 to `N_max`.\n",
    "- `**kwargs`: The frequency and angles that are passed to the `Cell.R_T()` method."
   ]
  },
  {
   "cell_type": "code",
   "execution_count": 116,
   "metadata": {},
   "outputs": [
    {
     "name": "stdout",
     "output_type": "stream",
     "text": [
      "EPS: (1, 1)\n",
      "N = (1, 1): R = 0.20595, T = 0.82672\n",
      "1.715s taken per iteration.\n",
      "EPS: (9, 9)\n",
      "N = (3, 3): R = 0.72762, T = 0.27238\n",
      "1.075s taken per iteration.\n",
      "EPS: (25, 25)\n",
      "N = (5, 5): R = 0.74656, T = 0.25344\n",
      "0.096s taken per iteration.\n",
      "EPS: (49, 49)\n",
      "N = (7, 7): R = 0.63095, T = 0.36905\n",
      "0.181s taken per iteration.\n",
      "EPS: (81, 81)\n",
      "N = (9, 9): R = 0.61906, T = 0.38094\n",
      "0.359s taken per iteration.\n",
      "EPS: (121, 121)\n",
      "N = (11, 11): R = 0.61294, T = 0.38706\n",
      "0.62s taken per iteration.\n",
      "EPS: (169, 169)\n",
      "N = (13, 13): R = 0.61003, T = 0.38997\n",
      "1.237s taken per iteration.\n",
      "EPS: (225, 225)\n"
     ]
    },
    {
     "ename": "KeyboardInterrupt",
     "evalue": "",
     "output_type": "error",
     "traceback": [
      "\u001b[0;31m---------------------------------------------------------------------------\u001b[0m",
      "\u001b[0;31mKeyboardInterrupt\u001b[0m                         Traceback (most recent call last)",
      "\u001b[0;32m<ipython-input-116-fc720f0b0927>\u001b[0m in \u001b[0;36m<module>\u001b[0;34m()\u001b[0m\n\u001b[1;32m      7\u001b[0m \u001b[0;34m\u001b[0m\u001b[0m\n\u001b[1;32m      8\u001b[0m \u001b[0mN_max\u001b[0m \u001b[0;34m=\u001b[0m \u001b[0;36m35\u001b[0m\u001b[0;34m\u001b[0m\u001b[0;34m\u001b[0m\u001b[0m\n\u001b[0;32m----> 9\u001b[0;31m \u001b[0;34m(\u001b[0m\u001b[0mRT\u001b[0m\u001b[0;34m,\u001b[0m \u001b[0mtt\u001b[0m\u001b[0;34m)\u001b[0m \u001b[0;34m=\u001b[0m \u001b[0mcell\u001b[0m\u001b[0;34m.\u001b[0m\u001b[0mconvergence\u001b[0m\u001b[0;34m(\u001b[0m\u001b[0mN_max\u001b[0m\u001b[0;34m,\u001b[0m \u001b[0mfreq\u001b[0m\u001b[0;34m=\u001b[0m\u001b[0mf\u001b[0m\u001b[0;34m,\u001b[0m \u001b[0mangles\u001b[0m\u001b[0;34m=\u001b[0m\u001b[0ma\u001b[0m\u001b[0;34m)\u001b[0m\u001b[0;34m\u001b[0m\u001b[0;34m\u001b[0m\u001b[0m\n\u001b[0m",
      "\u001b[0;32m~/Documents/University of California, Berkeley/Spring 2020/COMPSCI 267/beams/solver.py\u001b[0m in \u001b[0;36mconvergence\u001b[0;34m(self, N_max, **kwargs)\u001b[0m\n\u001b[1;32m    364\u001b[0m             \u001b[0mself\u001b[0m\u001b[0;34m.\u001b[0m\u001b[0mN\u001b[0m \u001b[0;34m=\u001b[0m \u001b[0mn\u001b[0m\u001b[0;34m\u001b[0m\u001b[0;34m\u001b[0m\u001b[0m\n\u001b[1;32m    365\u001b[0m             \u001b[0mt0\u001b[0m \u001b[0;34m=\u001b[0m \u001b[0mtime\u001b[0m\u001b[0;34m.\u001b[0m\u001b[0mtime\u001b[0m\u001b[0;34m(\u001b[0m\u001b[0;34m)\u001b[0m\u001b[0;34m\u001b[0m\u001b[0;34m\u001b[0m\u001b[0m\n\u001b[0;32m--> 366\u001b[0;31m             \u001b[0;34m(\u001b[0m\u001b[0mR\u001b[0m\u001b[0;34m[\u001b[0m\u001b[0mi\u001b[0m\u001b[0;34m]\u001b[0m\u001b[0;34m,\u001b[0m \u001b[0mT\u001b[0m\u001b[0;34m[\u001b[0m\u001b[0mi\u001b[0m\u001b[0;34m]\u001b[0m\u001b[0;34m)\u001b[0m \u001b[0;34m=\u001b[0m \u001b[0mself\u001b[0m\u001b[0;34m.\u001b[0m\u001b[0mR_T\u001b[0m\u001b[0;34m(\u001b[0m\u001b[0;34m**\u001b[0m\u001b[0mkwargs\u001b[0m\u001b[0;34m)\u001b[0m\u001b[0;34m\u001b[0m\u001b[0;34m\u001b[0m\u001b[0m\n\u001b[0m\u001b[1;32m    367\u001b[0m             print('N = ' + str(n) + ': R = ' + str(round(R[i], 5)) +\n\u001b[1;32m    368\u001b[0m                     ', T = ' + str(round(T[i], 5)))\n",
      "\u001b[0;32m~/Documents/University of California, Berkeley/Spring 2020/COMPSCI 267/beams/solver.py\u001b[0m in \u001b[0;36mR_T\u001b[0;34m(self, freq, angles)\u001b[0m\n\u001b[1;32m    276\u001b[0m     \u001b[0;32mdef\u001b[0m \u001b[0mR_T\u001b[0m\u001b[0;34m(\u001b[0m\u001b[0mself\u001b[0m\u001b[0;34m,\u001b[0m \u001b[0mfreq\u001b[0m\u001b[0;34m=\u001b[0m\u001b[0;32mNone\u001b[0m\u001b[0;34m,\u001b[0m \u001b[0mangles\u001b[0m\u001b[0;34m=\u001b[0m\u001b[0;32mNone\u001b[0m\u001b[0;34m)\u001b[0m\u001b[0;34m:\u001b[0m\u001b[0;34m\u001b[0m\u001b[0;34m\u001b[0m\u001b[0m\n\u001b[1;32m    277\u001b[0m         \u001b[0mN_t\u001b[0m \u001b[0;34m=\u001b[0m \u001b[0mself\u001b[0m\u001b[0;34m.\u001b[0m\u001b[0mN_t\u001b[0m\u001b[0;34m\u001b[0m\u001b[0;34m\u001b[0m\u001b[0m\n\u001b[0;32m--> 278\u001b[0;31m         \u001b[0;34m(\u001b[0m\u001b[0mr\u001b[0m\u001b[0;34m,\u001b[0m \u001b[0mt\u001b[0m\u001b[0;34m)\u001b[0m \u001b[0;34m=\u001b[0m \u001b[0mself\u001b[0m\u001b[0;34m.\u001b[0m\u001b[0mdiffraction_orders\u001b[0m\u001b[0;34m(\u001b[0m\u001b[0mfreq\u001b[0m\u001b[0;34m,\u001b[0m \u001b[0mangles\u001b[0m\u001b[0;34m)\u001b[0m\u001b[0;34m\u001b[0m\u001b[0;34m\u001b[0m\u001b[0m\n\u001b[0m\u001b[1;32m    279\u001b[0m         \u001b[0mg_r\u001b[0m \u001b[0;34m=\u001b[0m \u001b[0mself\u001b[0m\u001b[0;34m.\u001b[0m\u001b[0mlayers\u001b[0m\u001b[0;34m[\u001b[0m\u001b[0;36m0\u001b[0m\u001b[0;34m]\u001b[0m\u001b[0;34m.\u001b[0m\u001b[0mgamma\u001b[0m\u001b[0;34m[\u001b[0m\u001b[0;34m:\u001b[0m\u001b[0mN_t\u001b[0m\u001b[0;34m]\u001b[0m\u001b[0;34m\u001b[0m\u001b[0;34m\u001b[0m\u001b[0m\n\u001b[1;32m    280\u001b[0m         \u001b[0mg_t\u001b[0m \u001b[0;34m=\u001b[0m \u001b[0mself\u001b[0m\u001b[0;34m.\u001b[0m\u001b[0mlayers\u001b[0m\u001b[0;34m[\u001b[0m\u001b[0;34m-\u001b[0m\u001b[0;36m1\u001b[0m\u001b[0;34m]\u001b[0m\u001b[0;34m.\u001b[0m\u001b[0mgamma\u001b[0m\u001b[0;34m[\u001b[0m\u001b[0;34m:\u001b[0m\u001b[0mN_t\u001b[0m\u001b[0;34m]\u001b[0m\u001b[0;34m\u001b[0m\u001b[0;34m\u001b[0m\u001b[0m\n",
      "\u001b[0;32m~/Documents/University of California, Berkeley/Spring 2020/COMPSCI 267/beams/solver.py\u001b[0m in \u001b[0;36mdiffraction_orders\u001b[0;34m(self, freq, angles)\u001b[0m\n\u001b[1;32m    260\u001b[0m             \u001b[0mself\u001b[0m\u001b[0;34m.\u001b[0m\u001b[0mbuild\u001b[0m\u001b[0;34m(\u001b[0m\u001b[0mfreq\u001b[0m\u001b[0;34m,\u001b[0m \u001b[0mk\u001b[0m\u001b[0;34m)\u001b[0m\u001b[0;34m\u001b[0m\u001b[0;34m\u001b[0m\u001b[0m\n\u001b[1;32m    261\u001b[0m             \u001b[0mb\u001b[0m \u001b[0;34m=\u001b[0m \u001b[0mself\u001b[0m\u001b[0;34m.\u001b[0m\u001b[0m__excitation\u001b[0m\u001b[0;34m(\u001b[0m\u001b[0mu\u001b[0m\u001b[0;34m)\u001b[0m\u001b[0;34m\u001b[0m\u001b[0;34m\u001b[0m\u001b[0m\n\u001b[0;32m--> 262\u001b[0;31m             \u001b[0mself\u001b[0m\u001b[0;34m.\u001b[0m\u001b[0mlinsolve\u001b[0m\u001b[0;34m(\u001b[0m\u001b[0mfreq\u001b[0m\u001b[0;34m,\u001b[0m \u001b[0mk\u001b[0m\u001b[0;34m,\u001b[0m \u001b[0mb\u001b[0m\u001b[0;34m)\u001b[0m\u001b[0;34m\u001b[0m\u001b[0;34m\u001b[0m\u001b[0m\n\u001b[0m\u001b[1;32m    263\u001b[0m \u001b[0;34m\u001b[0m\u001b[0m\n\u001b[1;32m    264\u001b[0m         \u001b[0mg_r\u001b[0m \u001b[0;34m=\u001b[0m \u001b[0mself\u001b[0m\u001b[0;34m.\u001b[0m\u001b[0mlayers\u001b[0m\u001b[0;34m[\u001b[0m\u001b[0;36m0\u001b[0m\u001b[0;34m]\u001b[0m\u001b[0;34m.\u001b[0m\u001b[0mgamma\u001b[0m\u001b[0;34m[\u001b[0m\u001b[0;34m:\u001b[0m\u001b[0mN_t\u001b[0m\u001b[0;34m]\u001b[0m\u001b[0;34m\u001b[0m\u001b[0;34m\u001b[0m\u001b[0m\n",
      "\u001b[0;32m~/Documents/University of California, Berkeley/Spring 2020/COMPSCI 267/beams/solver.py\u001b[0m in \u001b[0;36mlinsolve\u001b[0;34m(self, freq, k, b)\u001b[0m\n\u001b[1;32m    154\u001b[0m             \u001b[0mself\u001b[0m\u001b[0;34m.\u001b[0m\u001b[0mbuild\u001b[0m\u001b[0;34m(\u001b[0m\u001b[0mfreq\u001b[0m\u001b[0;34m,\u001b[0m \u001b[0mk\u001b[0m\u001b[0;34m)\u001b[0m\u001b[0;34m\u001b[0m\u001b[0;34m\u001b[0m\u001b[0m\n\u001b[1;32m    155\u001b[0m \u001b[0;34m\u001b[0m\u001b[0m\n\u001b[0;32m--> 156\u001b[0;31m         \u001b[0mC\u001b[0m \u001b[0;34m=\u001b[0m \u001b[0mla\u001b[0m\u001b[0;34m.\u001b[0m\u001b[0msolve\u001b[0m\u001b[0;34m(\u001b[0m\u001b[0mself\u001b[0m\u001b[0;34m.\u001b[0m\u001b[0mB\u001b[0m\u001b[0;34m,\u001b[0m \u001b[0mb\u001b[0m\u001b[0;34m)\u001b[0m\u001b[0;34m\u001b[0m\u001b[0;34m\u001b[0m\u001b[0m\n\u001b[0m\u001b[1;32m    157\u001b[0m         \u001b[0mself\u001b[0m\u001b[0;34m.\u001b[0m\u001b[0m_C\u001b[0m \u001b[0;34m=\u001b[0m \u001b[0mnp\u001b[0m\u001b[0;34m.\u001b[0m\u001b[0mreshape\u001b[0m\u001b[0;34m(\u001b[0m\u001b[0mC\u001b[0m\u001b[0;34m,\u001b[0m \u001b[0;34m(\u001b[0m\u001b[0;36m4\u001b[0m \u001b[0;34m*\u001b[0m \u001b[0mN_t\u001b[0m\u001b[0;34m,\u001b[0m \u001b[0mL\u001b[0m \u001b[0;34m+\u001b[0m \u001b[0;36m1\u001b[0m\u001b[0;34m)\u001b[0m\u001b[0;34m,\u001b[0m \u001b[0morder\u001b[0m\u001b[0;34m=\u001b[0m\u001b[0;34m'F'\u001b[0m\u001b[0;34m)\u001b[0m\u001b[0;34m\u001b[0m\u001b[0;34m\u001b[0m\u001b[0m\n\u001b[1;32m    158\u001b[0m         \u001b[0mself\u001b[0m\u001b[0;34m.\u001b[0m\u001b[0m_C\u001b[0m\u001b[0;34m[\u001b[0m\u001b[0;36m2\u001b[0m \u001b[0;34m*\u001b[0m \u001b[0mN_t\u001b[0m\u001b[0;34m:\u001b[0m\u001b[0;36m4\u001b[0m \u001b[0;34m*\u001b[0m \u001b[0mN_t\u001b[0m\u001b[0;34m,\u001b[0m \u001b[0mL\u001b[0m \u001b[0;34m-\u001b[0m \u001b[0;36m1\u001b[0m\u001b[0;34m]\u001b[0m \u001b[0;34m=\u001b[0m \u001b[0mnp\u001b[0m\u001b[0;34m.\u001b[0m\u001b[0mzeros\u001b[0m\u001b[0;34m(\u001b[0m\u001b[0;36m2\u001b[0m \u001b[0;34m*\u001b[0m \u001b[0mN_t\u001b[0m\u001b[0;34m,\u001b[0m \u001b[0mdtype\u001b[0m\u001b[0;34m=\u001b[0m\u001b[0mcomplex\u001b[0m\u001b[0;34m)\u001b[0m\u001b[0;34m\u001b[0m\u001b[0;34m\u001b[0m\u001b[0m\n",
      "\u001b[0;32m~/anaconda3/lib/python3.6/site-packages/scipy/linalg/basic.py\u001b[0m in \u001b[0;36msolve\u001b[0;34m(a, b, sym_pos, lower, overwrite_a, overwrite_b, debug, check_finite, assume_a, transposed)\u001b[0m\n\u001b[1;32m    213\u001b[0m         gecon, getrf, getrs = get_lapack_funcs(('gecon', 'getrf', 'getrs'),\n\u001b[1;32m    214\u001b[0m                                                (a1, b1))\n\u001b[0;32m--> 215\u001b[0;31m         \u001b[0mlu\u001b[0m\u001b[0;34m,\u001b[0m \u001b[0mipvt\u001b[0m\u001b[0;34m,\u001b[0m \u001b[0minfo\u001b[0m \u001b[0;34m=\u001b[0m \u001b[0mgetrf\u001b[0m\u001b[0;34m(\u001b[0m\u001b[0ma1\u001b[0m\u001b[0;34m,\u001b[0m \u001b[0moverwrite_a\u001b[0m\u001b[0;34m=\u001b[0m\u001b[0moverwrite_a\u001b[0m\u001b[0;34m)\u001b[0m\u001b[0;34m\u001b[0m\u001b[0;34m\u001b[0m\u001b[0m\n\u001b[0m\u001b[1;32m    216\u001b[0m         \u001b[0m_solve_check\u001b[0m\u001b[0;34m(\u001b[0m\u001b[0mn\u001b[0m\u001b[0;34m,\u001b[0m \u001b[0minfo\u001b[0m\u001b[0;34m)\u001b[0m\u001b[0;34m\u001b[0m\u001b[0;34m\u001b[0m\u001b[0m\n\u001b[1;32m    217\u001b[0m         x, info = getrs(lu, ipvt, b1,\n",
      "\u001b[0;31mKeyboardInterrupt\u001b[0m: "
     ]
    }
   ],
   "source": [
    "inc = bm.Layer()\n",
    "sub = bm.Layer(material=sio2)\n",
    "cell = bm.Cell(period=p, N=5, layers=[inc, phc, sub])\n",
    "\n",
    "f = 0.75\n",
    "a = bm.Vector3d(np.pi / 3, np.pi / 6, np.pi / 2)\n",
    "\n",
    "N_max = 35\n",
    "(RT, tt) = cell.convergence(N_max, freq=f, angles=a)"
   ]
  },
  {
   "cell_type": "code",
   "execution_count": null,
   "metadata": {
    "collapsed": true
   },
   "outputs": [],
   "source": [
    "fig, ax = plt.subplots(ncols=2, figsize=[12.8, 4.8])\n",
    "ni = np.arange(1, N_max + 1, 2) ** 2\n",
    "\n",
    "ax[0].loglog(ni[1:], np.abs(np.diff(RT[0])), linewidth=2)\n",
    "ax[0].set_xlabel('Number of modes')\n",
    "ax[0].set_ylabel('Error')\n",
    "\n",
    "ax[1].loglog(ni, tt, linewidth=2)\n",
    "ax[1].set_xlabel('Number of modes')\n",
    "ax[1].set_ylabel('Time (s)')\n",
    "plt.show()"
   ]
  },
  {
   "cell_type": "markdown",
   "metadata": {},
   "source": [
    "## FFT\n",
    "\n",
    "The scaling of the FFT can be obtained through the `Layer.fft_convergence` method which returns a tuple of the time taken for each computation and the maximum difference in the norms of the FFT matrices compared to the previous computation.\n",
    "\n",
    "#### Parameters\n",
    "- `max_res`: The maximum resolution to compute the FFT for.\n",
    "- `n_res`: The number of steps in the resolution from the minimum i.e. $2N-1$ to `max_res`.\n",
    "- `N`: Defines the minimum resolution and truncates the central $2N-1$ orders from the FFT solution.\n",
    "- `period`: The period of the lattice. Increasing the period will also increase size of grid if resolution is constant.\n",
    "- `n_iter=3`: The number of computations over which the time is averaged."
   ]
  },
  {
   "cell_type": "code",
   "execution_count": null,
   "metadata": {
    "collapsed": true
   },
   "outputs": [],
   "source": [
    "m_res = 1e4\n",
    "n = 25\n",
    "N = 11\n",
    "(err, T) = phc.fft_convergence(m_res, n, N, p)"
   ]
  },
  {
   "cell_type": "markdown",
   "metadata": {},
   "source": [
    "Since the values are stored, the scaling and accuracy can be quickly visualized."
   ]
  },
  {
   "cell_type": "code",
   "execution_count": null,
   "metadata": {
    "collapsed": true
   },
   "outputs": [],
   "source": [
    "fig, ax = plt.subplots(ncols=2, figsize=[12.8, 4.8])\n",
    "ri = np.linspace(2 * N - 1, m_res, n)\n",
    "\n",
    "ax[0].loglog(ri, err, linewidth=2)\n",
    "ax[0].set_xlabel('Resolution (px/μm)')\n",
    "ax[0].set_ylabel('Error')\n",
    "\n",
    "ax[1].loglog(ri, T, linewidth=2)\n",
    "ax[1].set_xlabel('Resolution (px/μm)')\n",
    "ax[1].set_ylabel('Time (s)')\n",
    "plt.show()"
   ]
  },
  {
   "cell_type": "markdown",
   "metadata": {},
   "source": [
    "## Parallelism Trials"
   ]
  },
  {
   "cell_type": "code",
   "execution_count": 1,
   "metadata": {
    "collapsed": true
   },
   "outputs": [],
   "source": [
    "from numba import njit, jit\n",
    "from numba import prange\n",
    "import numba\n",
    "import time\n",
    "import sys\n",
    "sys.path.append('../../') # Modify this line\n",
    "\n",
    "import beams as bm\n",
    "import numpy as np\n",
    "import matplotlib.pyplot as plt\n",
    "\n",
    "# from cython.parallel import prange\n",
    "import numexpr as ne\n",
    "import os"
   ]
  },
  {
   "cell_type": "code",
   "execution_count": 85,
   "metadata": {
    "collapsed": true
   },
   "outputs": [],
   "source": [
    "a = np.random.random((1000, 10, 10))\n",
    "b = np.copy(a)\n",
    "c = np.copy(a)\n",
    "d = np.copy(a)"
   ]
  },
  {
   "cell_type": "markdown",
   "metadata": {},
   "source": [
    "### Using Concurrent Futures"
   ]
  },
  {
   "cell_type": "code",
   "execution_count": 36,
   "metadata": {
    "collapsed": true
   },
   "outputs": [],
   "source": [
    "def future_done(r, i, a):\n",
    "    a[i] = r.result()"
   ]
  },
  {
   "cell_type": "code",
   "execution_count": 92,
   "metadata": {},
   "outputs": [
    {
     "name": "stdout",
     "output_type": "stream",
     "text": [
      "0.09736299514770508\n"
     ]
    }
   ],
   "source": [
    "from concurrent import futures\n",
    "import functools\n",
    "\n",
    "before = time.time()\n",
    "with futures.ThreadPoolExecutor(max_workers=2) as executor:\n",
    "    for i in prange(a.shape[0]):\n",
    "        future_result = executor.submit(lapack_inverse, a[i])\n",
    "        future_result.add_done_callback(functools.partial(future_done, i=i, a=a))\n",
    "after = time.time()\n",
    "print(after - before)"
   ]
  },
  {
   "cell_type": "markdown",
   "metadata": {},
   "source": [
    "### Using Cython, OpenMP and prange"
   ]
  },
  {
   "cell_type": "code",
   "execution_count": 88,
   "metadata": {},
   "outputs": [
    {
     "name": "stdout",
     "output_type": "stream",
     "text": [
      "0.03628110885620117\n"
     ]
    }
   ],
   "source": [
    "from cython.parallel import prange\n",
    "import cython\n",
    "\n",
    "before = time.time()\n",
    "for i in prange(a.shape[0], nogil=True, schedule='static'):\n",
    "    a[i] = lapack_inverse(a[i])\n",
    "after = time.time()\n",
    "print(after - before)"
   ]
  },
  {
   "cell_type": "markdown",
   "metadata": {},
   "source": [
    "### Using LAPACK"
   ]
  },
  {
   "cell_type": "code",
   "execution_count": 2,
   "metadata": {
    "collapsed": true
   },
   "outputs": [],
   "source": [
    "from scipy.linalg import lapack\n",
    "import timeit"
   ]
  },
  {
   "cell_type": "code",
   "execution_count": 18,
   "metadata": {
    "collapsed": true
   },
   "outputs": [],
   "source": [
    "def lapack_inverse(a):\n",
    "    b = np.eye(a.shape[0], dtype=a.dtype)\n",
    "    _, _, a, _ = lapack.dgesv(a, b)"
   ]
  },
  {
   "cell_type": "code",
   "execution_count": 94,
   "metadata": {},
   "outputs": [
    {
     "name": "stdout",
     "output_type": "stream",
     "text": [
      "0.0330202579498291\n",
      "0.042738914489746094\n",
      "0.0388181209564209\n",
      "0.2257678508758545\n",
      "0.25302600860595703\n",
      "0.39342522621154785\n",
      "0.5749969482421875\n",
      "0.49893879890441895\n",
      "0.4580662250518799\n",
      "3.384368896484375\n",
      "2.7387912273406982\n",
      "2.833681106567383\n"
     ]
    },
    {
     "ename": "KeyboardInterrupt",
     "evalue": "",
     "output_type": "error",
     "traceback": [
      "\u001b[0;31m---------------------------------------------------------------------------\u001b[0m",
      "\u001b[0;31mKeyboardInterrupt\u001b[0m                         Traceback (most recent call last)",
      "\u001b[0;32m<ipython-input-94-a4dabc12ed5c>\u001b[0m in \u001b[0;36m<module>\u001b[0;34m()\u001b[0m\n\u001b[1;32m      5\u001b[0m \u001b[0;34m\u001b[0m\u001b[0m\n\u001b[1;32m      6\u001b[0m \u001b[0;32mfor\u001b[0m \u001b[0mdim\u001b[0m \u001b[0;32min\u001b[0m \u001b[0mdims\u001b[0m\u001b[0;34m:\u001b[0m\u001b[0;34m\u001b[0m\u001b[0;34m\u001b[0m\u001b[0m\n\u001b[0;32m----> 7\u001b[0;31m     \u001b[0mrandom_mat\u001b[0m \u001b[0;34m=\u001b[0m \u001b[0mnp\u001b[0m\u001b[0;34m.\u001b[0m\u001b[0mrandom\u001b[0m\u001b[0;34m.\u001b[0m\u001b[0mrandom\u001b[0m\u001b[0;34m(\u001b[0m\u001b[0;34m(\u001b[0m\u001b[0;36m1000\u001b[0m\u001b[0;34m,\u001b[0m \u001b[0mdim\u001b[0m\u001b[0;34m,\u001b[0m \u001b[0mdim\u001b[0m\u001b[0;34m)\u001b[0m\u001b[0;34m)\u001b[0m\u001b[0;34m\u001b[0m\u001b[0;34m\u001b[0m\u001b[0m\n\u001b[0m\u001b[1;32m      8\u001b[0m \u001b[0;34m\u001b[0m\u001b[0m\n\u001b[1;32m      9\u001b[0m     \u001b[0mlapack_mat\u001b[0m \u001b[0;34m=\u001b[0m \u001b[0mnp\u001b[0m\u001b[0;34m.\u001b[0m\u001b[0mcopy\u001b[0m\u001b[0;34m(\u001b[0m\u001b[0mrandom_mat\u001b[0m\u001b[0;34m)\u001b[0m\u001b[0;34m\u001b[0m\u001b[0;34m\u001b[0m\u001b[0m\n",
      "\u001b[0;31mKeyboardInterrupt\u001b[0m: "
     ]
    }
   ],
   "source": [
    "lapack_inverse_time = []\n",
    "np_inverse_time = []\n",
    "cython_inverse_time = []\n",
    "dims = [10, 50, 100, 250, 500]\n",
    "\n",
    "for dim in dims:\n",
    "    random_mat = np.random.random((1000, dim, dim))\n",
    "    \n",
    "    lapack_mat = np.copy(random_mat)\n",
    "    before = time.time()\n",
    "    for i in range(lapack_mat.shape[0]):\n",
    "        lapack_inverse(lapack_mat[i])\n",
    "    after = time.time()\n",
    "    print(after - before)\n",
    "    lapack_inverse_time.append(after - before)\n",
    "    \n",
    "    np_mat = np.copy(random_mat)\n",
    "    before = time.time()\n",
    "    for i in range(np_mat.shape[0]):\n",
    "        np.linalg.inv(np_mat[i])\n",
    "    after = time.time()\n",
    "    print(after - before)\n",
    "    np_inverse_time.append(after - before)\n",
    "    \n",
    "    cython_mat = np.copy(random_mat)\n",
    "    before = time.time()\n",
    "    for i in prange(cython_mat.shape[0], nogil=True, schedule='dynamic'):\n",
    "        lapack_inverse(cython_mat[i])\n",
    "    after = time.time()\n",
    "    print(after - before)\n",
    "    cython_inverse_time.append(after - before)"
   ]
  },
  {
   "cell_type": "code",
   "execution_count": 93,
   "metadata": {},
   "outputs": [
    {
     "data": {
      "image/png": "[encoded data removed]",
      "text/plain": [
       "<Figure size 432x288 with 1 Axes>"
      ]
     },
     "metadata": {},
     "output_type": "display_data"
    }
   ],
   "source": [
    "plt.plot(dims, lapack_inverse_time, 'o-')\n",
    "plt.plot(dims, np_inverse_time, 'o-')\n",
    "plt.plot(dims, cython_inverse_time, 'o-')\n",
    "plt.legend(['LAPACK', 'Numpy', 'Cython'])\n",
    "plt.show()"
   ]
  },
  {
   "cell_type": "code",
   "execution_count": 73,
   "metadata": {},
   "outputs": [
    {
     "name": "stdout",
     "output_type": "stream",
     "text": [
      "0.051332950592041016\n",
      "0.11538887023925781\n",
      "0.13680624961853027\n",
      "0.12067198753356934\n",
      "0.22940421104431152\n",
      "0.25310492515563965\n",
      "0.31233882904052734\n",
      "0.3215639591217041\n",
      "0.4002110958099365\n",
      "0.44547319412231445\n"
     ]
    }
   ],
   "source": [
    "lapack_inverse_time = []\n",
    "np_inverse_time = []\n",
    "dims = [100, 250, 500, 750, 1000]\n",
    "\n",
    "for dim in dims:\n",
    "    random_mat = np.random.random((dim, 100, 100))\n",
    "    \n",
    "    before = time.time()\n",
    "    lapack_mat = np.copy(random_mat)\n",
    "    for i in range(lapack_mat.shape[0]):\n",
    "        lapack_inverse(lapack_mat[i])\n",
    "    after = time.time()\n",
    "    print(after - before)\n",
    "    lapack_inverse_time.append(after - before)\n",
    "    \n",
    "    before = time.time()\n",
    "    np_mat = np.copy(random_mat)\n",
    "    for i in range(np_mat.shape[0]):\n",
    "        np.linalg.inv(np_mat[i])\n",
    "    after = time.time()\n",
    "    print(after - before)\n",
    "    np_inverse_time.append(after - before)"
   ]
  },
  {
   "cell_type": "code",
   "execution_count": 74,
   "metadata": {},
   "outputs": [
    {
     "data": {
      "image/png": "[encoded data removed]",
      "text/plain": [
       "<Figure size 432x288 with 1 Axes>"
      ]
     },
     "metadata": {},
     "output_type": "display_data"
    }
   ],
   "source": [
    "plt.plot(dims, lapack_inverse_time, 'o-')\n",
    "plt.plot(dims, np_inverse_time, 'o-')\n",
    "plt.legend(['LAPACK', 'Numpy'])\n",
    "plt.show()"
   ]
  }
 ],
 "metadata": {
  "kernelspec": {
   "display_name": "Python 3",
   "language": "python",
   "name": "python3"
  },
  "language_info": {
   "codemirror_mode": {
    "name": "ipython",
    "version": 3
   },
   "file_extension": ".py",
   "mimetype": "text/x-python",
   "name": "python",
   "nbconvert_exporter": "python",
   "pygments_lexer": "ipython3",
   "version": "3.6.7"
  }
 },
 "nbformat": 4,
 "nbformat_minor": 2
}
