{
 "cells": [
  {
   "cell_type": "markdown",
   "metadata": {},
   "source": [
    "# Convergence and performance"
   ]
  },
  {
   "cell_type": "markdown",
   "metadata": {},
   "source": [
    "To optimize simulation time vs accuracy, an estimate of the acaling of the algorithm is required. For this purpose, there are two methods provided in the `Cell` and the `Layer` classes.\n",
    "\n",
    "Below a simple example is set up to quickly run these tests. The structure here is a 300 nm layer of silicon on glass with cylindrical air holes arranged in a square lattice of periodicity 1 μm."
   ]
  },
  {
   "cell_type": "code",
   "execution_count": 1,
   "metadata": {},
   "outputs": [],
   "source": [
    "import sys\n",
    "sys.path.append('../../') # Modify this line\n",
    "\n",
    "import beams as bm\n",
    "import numpy as np\n",
    "from time import time\n",
    "import matplotlib.pyplot as plt\n",
    "\n",
    "p = bm.Vector2d(1, 1)\n",
    "\n",
    "air = bm.Material()\n",
    "si = bm.Material(index=3.4) \n",
    "sio2 = bm.Material(epsilon=1.5 ** 2)\n",
    "\n",
    "hole = bm.Ellipse(r=.3, material=air) \n",
    "phc = bm.Layer(h=.3, material=si, shapes=[hole], resolution=500)"
   ]
  },
  {
   "cell_type": "markdown",
   "metadata": {},
   "source": [
    "## Linear algebra\n",
    "\n",
    "The size of the linear algebra problems is determined by the number of modes $N$. The accuracy and performance of `Layer.compute_eigs` and `Cell.linsolve` methods can be obtained using `Cell.convergence`.\n",
    "\n",
    "#### Parameters\n",
    "- `N_max`: The maximum number of modes to compute upto. The method will run the simulation for every odd integer from 1 to `N_max`.\n",
    "- `**kwargs`: The frequency and angles that are passed to the `Cell.R_T()` method."
   ]
  },
  {
   "cell_type": "code",
   "execution_count": 2,
   "metadata": {},
   "outputs": [
    {
     "name": "stdout",
     "output_type": "stream",
     "text": [
      "In Numba Layer\n"
     ]
    },
    {
     "data": {
      "text/plain": [
       "Layer with h = 0.0,\n",
       "shapes = [],\n",
       "background = <beams.materials.Material object at 0x7fa5045c9ac0>,\n",
       "resolution = None\n",
       "No FFT matrices stored\n",
       "No eigenvalue solutions stored"
      ]
     },
     "execution_count": 2,
     "metadata": {},
     "output_type": "execute_result"
    }
   ],
   "source": [
    "bm.Layer_Numba()"
   ]
  },
  {
   "cell_type": "code",
   "execution_count": null,
   "metadata": {},
   "outputs": [
    {
     "name": "stdout",
     "output_type": "stream",
     "text": [
      "N = (1, 1): R = 0.18102, T = 1.08101\n",
      "0.095s taken per iteration.\n",
      "N = (3, 3): R = 0.72762, T = 0.27238\n",
      "0.06s taken per iteration.\n",
      "N = (5, 5): R = 0.74656, T = 0.25344\n",
      "0.109s taken per iteration.\n",
      "N = (7, 7): R = 0.63095, T = 0.36905\n",
      "0.354s taken per iteration.\n",
      "N = (9, 9): R = 0.61906, T = 0.38094\n",
      "1.236s taken per iteration.\n",
      "N = (11, 11): R = 0.61294, T = 0.38706\n",
      "4.404s taken per iteration.\n",
      "N = (13, 13): R = 0.61003, T = 0.38997\n",
      "10.815s taken per iteration.\n",
      "N = (15, 15): R = 0.60809, T = 0.39191\n",
      "26.083s taken per iteration.\n",
      "N = (17, 17): R = 0.60675, T = 0.39325\n",
      "53.591s taken per iteration.\n",
      "N = (19, 19): R = 0.60581, T = 0.39419\n",
      "103.782s taken per iteration.\n"
     ]
    }
   ],
   "source": [
    "inc = bm.Layer()\n",
    "sub = bm.Layer(material=sio2)\n",
    "cell = bm.Cell(period=p, N=5, layers=[inc, phc, sub])\n",
    "\n",
    "f = 0.75\n",
    "a = bm.Vector3d(np.pi / 3, np.pi / 6, np.pi / 2)\n",
    "\n",
    "N_max = 35\n",
    "(RT, tt) = cell.convergence(N_max, freq=f, angles=a)"
   ]
  },
  {
   "cell_type": "code",
   "execution_count": null,
   "metadata": {},
   "outputs": [],
   "source": [
    "fig, ax = plt.subplots(ncols=2, figsize=[12.8, 4.8])\n",
    "ni = np.arange(1, N_max + 1, 2) ** 2\n",
    "\n",
    "ax[0].semilogy(ni[1:], np.abs(np.diff(RT[0])), linewidth=2)\n",
    "ax[0].set_xlabel('Number of modes')\n",
    "ax[0].set_ylabel('Error')\n",
    "\n",
    "ax[1].semilogy(ni, tt, linewidth=2)\n",
    "ax[1].set_xlabel('Number of modes')\n",
    "ax[1].set_ylabel('Time (s)')\n",
    "plt.show()"
   ]
  },
  {
   "cell_type": "markdown",
   "metadata": {},
   "source": [
    "## FFT\n",
    "\n",
    "The scaling of the FFT can be obtained through the `Layer.fft_convergence` method which returns a tuple of the time taken for each computation and the maximum difference in the norms of the FFT matrices compared to the previous computation.\n",
    "\n",
    "#### Parameters\n",
    "- `max_res`: The maximum resolution to compute the FFT for.\n",
    "- `n_res`: The number of steps in the resolution from the minimum i.e. $2N-1$ to `max_res`.\n",
    "- `N`: Defines the minimum resolution and truncates the central $2N-1$ orders from the FFT solution.\n",
    "- `period`: The period of the lattice. Increasing the period will also increase size of grid if resolution is constant.\n",
    "- `n_iter=3`: The number of computations over which the time is averaged."
   ]
  },
  {
   "cell_type": "code",
   "execution_count": null,
   "metadata": {},
   "outputs": [],
   "source": [
    "m_res = 1e4\n",
    "n = 50\n",
    "N = 9\n",
    "(err, T) = phc.fft_convergence(m_res, n, N, p)"
   ]
  },
  {
   "cell_type": "markdown",
   "metadata": {},
   "source": [
    "Since the values are stored, the scaling and accuracy can be quickly visualized."
   ]
  },
  {
   "cell_type": "code",
   "execution_count": null,
   "metadata": {
    "scrolled": true
   },
   "outputs": [],
   "source": [
    "fig, ax = plt.subplots(ncols=2, figsize=[12.8, 4.8])\n",
    "ri = np.linspace(2 * N - 1, m_res, n)\n",
    "\n",
    "ax[0].semilogy(ri, err, linewidth=2)\n",
    "ax[0].set_xlabel('Resolution (px/μm)')\n",
    "ax[0].set_ylabel('Error')\n",
    "\n",
    "ax[1].plot(ri, T, linewidth=2)\n",
    "ax[1].set_xlabel('Resolution (px/μm)')\n",
    "ax[1].set_ylabel('Time (s)')\n",
    "plt.show()"
   ]
  }
 ],
 "metadata": {
  "kernelspec": {
   "display_name": "Python 3",
   "language": "python",
   "name": "python3"
  },
  "language_info": {
   "codemirror_mode": {
    "name": "ipython",
    "version": 3
   },
   "file_extension": ".py",
   "mimetype": "text/x-python",
   "name": "python",
   "nbconvert_exporter": "python",
   "pygments_lexer": "ipython3",
   "version": "3.8.2"
  }
 },
 "nbformat": 4,
 "nbformat_minor": 2
}
