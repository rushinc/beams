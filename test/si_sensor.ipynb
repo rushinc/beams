{
 "cells": [
  {
   "cell_type": "markdown",
   "metadata": {},
   "source": [
    "# beams tutorial\n",
    "\n",
    "## Setup\n",
    "\n",
    "Clone the repository to your desired location using `git clone https://github.com/rushinc/beams`.\n",
    "Append the `beams` parent directory to your `PYTHONPATH`. Easiest is to use the `os` module.\n",
    "Update the path in the cell below and that's it!"
   ]
  },
  {
   "cell_type": "code",
   "execution_count": 1,
   "metadata": {},
   "outputs": [],
   "source": [
    "import os\n",
    "os.sys.path.append('/home/rushin/Documents/Python/') # Modify this line\n",
    "\n",
    "import beams as bm\n",
    "import numpy as np\n",
    "import matplotlib.pyplot as plt"
   ]
  },
  {
   "cell_type": "markdown",
   "metadata": {},
   "source": [
    "## Inputs\n",
    "\n",
    "First, we define all the input parameters which define the geometry of our structure as well as the frequency and momentum to solve at.\n",
    "\n",
    "We begin with the wavelength or frequency. In units where the speed of light $c=1$ the frequency and wavelength are simply the inverse of each other.\n",
    "\n",
    "The unit for wavelength is chosen to be μm but is not important as long as all other geometric parameters are defined in the same units."
   ]
  },
  {
   "cell_type": "code",
   "execution_count": 2,
   "metadata": {},
   "outputs": [],
   "source": [
    "y = 1.55\n",
    "freq = 1 / y"
   ]
  },
  {
   "cell_type": "markdown",
   "metadata": {},
   "source": [
    "The angle of incident light is determined by the momentum along the $x$- and $y$-directions. For normal incidence $k_x = k_y = 0$."
   ]
  },
  {
   "cell_type": "code",
   "execution_count": 3,
   "metadata": {},
   "outputs": [],
   "source": [
    "kx = 0\n",
    "ky = 0\n",
    "k = bm.Vector2d(kx, ky)"
   ]
  },
  {
   "cell_type": "markdown",
   "metadata": {},
   "source": [
    "The accuracy and the computational size of the problem is determined by the number of modes solved for. The size of matrices will be proportional to $N = N_x N_y$.\n",
    "\n",
    "The time complexity of the linear algebra routines is $\\mathcal{O}(N^3)$. So the serial version should scale accordingly."
   ]
  },
  {
   "cell_type": "code",
   "execution_count": 4,
   "metadata": {},
   "outputs": [],
   "source": [
    "N_x = 9\n",
    "N_y = 9\n",
    "N_modes = bm.Vector2d(N_x, N_y)"
   ]
  },
  {
   "cell_type": "markdown",
   "metadata": {},
   "source": [
    "## Materials\n",
    "\n",
    "The physical response of the materials can be defined and accessed using `beams.materials.Material`. For now, we will only use this interface to assign a frequency-independent complex permittivity or refractive index. Later, this functionality will be extended to magnetic permeability as well as frequency-dependent dispersion.\n",
    "\n",
    "The materials we use for this example are air, silicon and glass."
   ]
  },
  {
   "cell_type": "code",
   "execution_count": 5,
   "metadata": {},
   "outputs": [],
   "source": [
    "air = bm.Material()\n",
    "SiO2 = bm.Material(index=1.5)\n",
    "Si = bm.Material(index=3.4)"
   ]
  },
  {
   "cell_type": "markdown",
   "metadata": {},
   "source": [
    "## Geometry\n",
    "\n",
    "The sensor we will analyze here is from [this paper](https://www.degruyter.com/view/journals/nanoph/ahead-of-print/article-10.1515-nanoph-2020-0008/article-10.1515-nanoph-2020-0008.xml). The unit cell (from Fig. 2) is reproduced below.\n",
    "\n",
    "![Unit cell](unitcell.png)\n",
    "\n",
    "The values of the parameters shown above are defined as follows:"
   ]
  },
  {
   "cell_type": "code",
   "execution_count": 6,
   "metadata": {},
   "outputs": [],
   "source": [
    "px = .810\n",
    "py = px\n",
    "p = bm.Vector2d(px, py)\n",
    "h = .320 # = h_c\n",
    "L = .600 \n",
    "w_1 = .230\n",
    "w_2 = .190\n",
    "g = .125\n",
    "C_1 = bm.Vector2d(y=-(w_1 + g)/2)       # Center of Si bar 1\n",
    "C_2 = bm.Vector2d(y=(w_2 + g)/2)        # Center of Si bar 1"
   ]
  },
  {
   "cell_type": "markdown",
   "metadata": {},
   "source": [
    "Now we can construct the rectangles using the `beams.shapes` module. The `Shape` class takes three arguments to construct; these determine the material of the shape, the center, and a function which returns a `boolean` for every `Vector2d` input indicating whether the point lies inside or outside the shape.\n",
    "\n",
    "Currently, this module only defines a rectangle but adding more shapes is pretty trivial."
   ]
  },
  {
   "cell_type": "code",
   "execution_count": 7,
   "metadata": {},
   "outputs": [],
   "source": [
    "bar1 = bm.Rectangle(size=bm.Vector2d(L, w_1), center=C_1, material=Si)\n",
    "bar2 = bm.Rectangle(size=bm.Vector2d(L, w_2), center=C_2, material=Si)"
   ]
  },
  {
   "cell_type": "markdown",
   "metadata": {},
   "source": [
    "The most important class in `beams` is the `Layer` class. `Layer` objects solve the eigenvalue problem of Maxwell's equations in 2D.\n",
    "\n",
    "To define a layer we pass in a list of shapes that belong to the layer, a default material which is present at all points which do not lie in the interior of the passed shapes, and an integer resolution. \n",
    "\n",
    "The resolution is number of pixels our length scale is divided in. So a resolution of $4000$ as passed below means that one pixel on our grid is equal to $1/4000$ μm. This resolution is what determines the size of the FFT problem which should scale as $\\mathcal{O}(r \\log r)$."
   ]
  },
  {
   "cell_type": "code",
   "execution_count": 8,
   "metadata": {},
   "outputs": [],
   "source": [
    "res = 4000\n",
    "shapes = [bar1, bar2]\n",
    "bars = bm.Layer(0, res, shapes, air)"
   ]
  },
  {
   "cell_type": "markdown",
   "metadata": {},
   "source": [
    "Now that a layer has been initialized we can run some preliminary tests on how the layer looks like. First, let us see if the shapes have been correctly defined. The `Layer.grid(period, value='id')` method will return of grid of the specified value which we can quickly plot using `matplotlib`."
   ]
  },
  {
   "cell_type": "code",
   "execution_count": 9,
   "metadata": {},
   "outputs": [
    {
     "data": {
      "image/png": "[encoded data removed]",
      "text/plain": [
       "<Figure size 432x288 with 2 Axes>"
      ]
     },
     "metadata": {
      "needs_background": "light"
     },
     "output_type": "display_data"
    }
   ],
   "source": [
    "xarr = np.arange(-px / 2, px / 2, 1 / res)\n",
    "yarr = np.arange(-py / 2, py / 2, 1 / res)\n",
    "sgrid = bars.grid(period=p)\n",
    "plt.pcolormesh(xarr, yarr, sgrid.T)\n",
    "plt.xlim([-px / 2, px / 2])\n",
    "plt.xlabel('$x$ (μm)')\n",
    "plt.ylim([-py / 2, py / 2])\n",
    "plt.ylabel('$y$ (μm)')\n",
    "plt.axis('equal')\n",
    "plt.colorbar()\n",
    "plt.show()"
   ]
  },
  {
   "cell_type": "markdown",
   "metadata": {},
   "source": [
    "This does look like a 2D projection of the two silicon bars from the unit cell. The different colors of the two rectangles indicate that these are distinct shapes having a unique id. Mostly though, we just want see the permittivity distribution. To do that we can pass `value='eps'` to `Layer.grid`."
   ]
  },
  {
   "cell_type": "code",
   "execution_count": 10,
   "metadata": {},
   "outputs": [
    {
     "data": {
      "image/png": "[encoded data removed]",
      "text/plain": [
       "<Figure size 432x288 with 2 Axes>"
      ]
     },
     "metadata": {
      "needs_background": "light"
     },
     "output_type": "display_data"
    }
   ],
   "source": [
    "epsgrid = bars.grid(period=p, value='eps')\n",
    "plt.pcolormesh(xarr, yarr, epsgrid.T)\n",
    "plt.xlim([-px / 2, px / 2])\n",
    "plt.xlabel('$x$ (μm)')\n",
    "plt.ylim([-py / 2, py / 2])\n",
    "plt.ylabel('$y$ (μm)')\n",
    "plt.axis('equal')\n",
    "plt.colorbar()\n",
    "plt.show()"
   ]
  },
  {
   "cell_type": "markdown",
   "metadata": {},
   "source": [
    "This shows that the two bars have the same permittivty $\\epsilon \\approx 12$.\n",
    "\n"
   ]
  },
  {
   "cell_type": "markdown",
   "metadata": {},
   "source": [
    "Now that everything looks good we can run the most intensive computation on this layer. Everything needed to solve a layer is contained in the `Layer.eigs` method. This method internally calls `Layer.fft` and `Layer.mode_solve` methods. Both these methods are defined in `layer.py` and should be timed separately. They compute the FFT and the eigendecomposition respectively.\n",
    "\n",
    "As things stand, this method will spit out a bunch of matrices. Later, these matrices will be used to solve the large linear system."
   ]
  },
  {
   "cell_type": "code",
   "execution_count": 11,
   "metadata": {},
   "outputs": [
    {
     "data": {
      "text/plain": [
       "(array([1.06923750e+01+1.92277217e-16j, 1.06664516e+01+3.96246978e-16j,\n",
       "        1.06764557e+01+4.75840142e-16j, 1.06828928e+01-4.96335204e-17j,\n",
       "        9.42231592e+00+1.16143158e-15j, 9.41317788e+00+8.82432767e-16j,\n",
       "        9.38719913e+00+4.32171795e-16j, 9.38036606e+00-7.87941777e-16j,\n",
       "        9.31639237e+00+2.17115815e-15j, 9.28081399e+00-9.59596675e-16j,\n",
       "        9.29109073e+00-2.69552867e-15j, 9.25127477e+00-1.04161922e-15j,\n",
       "        9.16894160e+00+5.70318738e-16j, 9.16227904e+00+2.59086825e-15j,\n",
       "        9.00531362e+00+4.96435680e-15j, 9.01340701e+00+4.44658748e-15j,\n",
       "        2.72665311e-16+2.55536517e+00j, 4.60224127e-16-2.07691434e+00j,\n",
       "        7.42892087e-16-1.67988390e+00j, 2.66225285e-15+1.31557865e+00j,\n",
       "        5.19069322e-16-9.83871615e-01j, 2.86881697e-15-9.40824334e-01j,\n",
       "        4.26399089e-15-3.74575642e-01j, 8.39786344e+00-9.47483204e-02j,\n",
       "        8.34472821e+00-1.30963375e-01j, 8.39786344e+00+9.47483204e-02j,\n",
       "        8.34472821e+00+1.30963375e-01j, 8.38928165e+00-1.22844923e-14j,\n",
       "        8.37513141e+00+7.64018502e-15j, 8.15236693e+00-2.98735027e-15j,\n",
       "        8.27729483e+00-4.11452464e-02j, 8.22805145e+00-5.19148803e-15j,\n",
       "        8.27729483e+00+4.11452464e-02j, 8.24187262e+00+2.38127670e-15j,\n",
       "        8.31412672e+00-1.54897139e-02j, 8.31412672e+00+1.54897139e-02j,\n",
       "        8.29448899e+00-9.90462059e-15j, 8.31798508e+00+8.74711734e-15j,\n",
       "        8.31670966e+00-2.27144946e-15j, 6.34455883e-01+8.87373249e-16j,\n",
       "        1.45388902e+00-4.78070886e-01j, 1.03780631e+00-1.46083697e-01j,\n",
       "        1.03780631e+00+1.46083697e-01j, 1.22972959e+00-3.74069846e-15j,\n",
       "        1.45388902e+00+4.78070886e-01j, 7.87769923e+00-1.06362688e-01j,\n",
       "        7.92022811e+00-4.76673480e-02j, 7.92022811e+00+4.76673480e-02j,\n",
       "        7.87769923e+00+1.06362688e-01j, 2.10969841e+00-5.34980472e-01j,\n",
       "        2.10969841e+00+5.34980472e-01j, 7.86869889e+00+5.15989517e-17j,\n",
       "        7.85064149e+00+2.46104293e-15j, 7.77236597e+00+1.23116883e-16j,\n",
       "        1.81005064e+00+2.16026264e-15j, 7.75730384e+00-4.01714770e-16j,\n",
       "        2.18340639e+00-3.59613630e-16j, 2.56355884e+00+2.61867068e-01j,\n",
       "        2.56355884e+00-2.61867068e-01j, 2.51440011e+00+5.44524225e-17j,\n",
       "        7.39494841e+00-3.63982968e-01j, 7.39494841e+00+3.63982968e-01j,\n",
       "        7.31808513e+00-3.39985256e-01j, 7.31808513e+00+3.39985256e-01j,\n",
       "        7.65455256e+00-8.05459274e-16j, 7.62786883e+00+1.92373238e-15j,\n",
       "        7.57318215e+00+7.82634774e-02j, 7.57318215e+00-7.82634774e-02j,\n",
       "        7.52738443e+00+3.34004695e-02j, 7.53456104e+00+3.13534246e-15j,\n",
       "        7.52738443e+00-3.34004695e-02j, 2.89602578e+00+2.23134734e-01j,\n",
       "        2.89602578e+00-2.23134734e-01j, 2.84307206e+00-6.87650377e-15j,\n",
       "        7.18898925e+00-3.07239640e-01j, 7.18898925e+00+3.07239640e-01j,\n",
       "        3.47281551e+00+5.06454807e-01j, 3.47281551e+00-5.06454807e-01j,\n",
       "        7.09476168e+00-2.16358357e-01j, 3.09932120e+00+4.61602173e-15j,\n",
       "        3.15147758e+00-1.78974545e-18j, 3.21930287e+00+1.95281428e-16j,\n",
       "        7.30655491e+00+5.84431595e-15j, 7.09476168e+00+2.16358357e-01j,\n",
       "        7.26158253e+00-9.32441050e-16j, 7.24943953e+00-1.52524585e-03j,\n",
       "        7.24943953e+00+1.52524585e-03j, 3.37435582e+00-1.52590316e-15j,\n",
       "        3.47672915e+00+1.17605707e-15j, 3.41194692e+00+3.27354985e-16j,\n",
       "        6.95800901e+00-6.56819307e-16j, 6.86636100e+00-7.21209307e-16j,\n",
       "        3.77449396e+00+4.27365228e-01j, 3.77449396e+00-4.27365228e-01j,\n",
       "        4.05569454e+00+3.15176935e-01j, 4.05569454e+00-3.15176935e-01j,\n",
       "        3.73035312e+00-5.13691902e-16j, 3.69971499e+00+7.24752898e-03j,\n",
       "        3.69971499e+00-7.24752898e-03j, 6.86331817e+00+2.15194403e-15j,\n",
       "        3.84700585e+00+7.29732334e-16j, 4.15450515e+00-2.57387840e-01j,\n",
       "        4.15450515e+00+2.57387840e-01j, 4.13271491e+00+7.54300660e-15j,\n",
       "        4.17621473e+00+1.55957004e-15j, 6.64962611e+00-6.92373330e-16j,\n",
       "        6.52538455e+00-1.17707989e-01j, 6.63115054e+00+1.19970726e-16j,\n",
       "        6.52538455e+00+1.17707989e-01j, 6.58091156e+00+7.67815788e-16j,\n",
       "        6.56819503e+00-2.84925308e-15j, 4.33604128e+00-9.20234805e-15j,\n",
       "        4.31697466e+00-4.31905300e-17j, 6.48281394e+00-5.85156269e-02j,\n",
       "        6.48281394e+00+5.85156269e-02j, 4.43523332e+00-2.03792445e-15j,\n",
       "        4.48696253e+00-1.09180931e-15j, 6.51141406e+00-3.85423768e-15j,\n",
       "        6.47247478e+00-1.25827340e-02j, 6.47247478e+00+1.25827340e-02j,\n",
       "        5.42745902e+00-4.33614524e-01j, 5.42745902e+00+4.33614524e-01j,\n",
       "        6.38027597e+00+8.69698678e-16j, 6.30933735e+00+4.30775673e-15j,\n",
       "        6.34198549e+00-4.43972493e-15j, 5.67864021e+00+3.87639975e-01j,\n",
       "        5.67864021e+00-3.87639975e-01j, 5.88180988e+00+2.96690013e-01j,\n",
       "        5.88180988e+00-2.96690013e-01j, 6.21290157e+00+2.67865069e-15j,\n",
       "        6.00626431e+00+1.60818330e-01j, 6.14885754e+00+2.74670584e-15j,\n",
       "        4.73815800e+00-1.06281425e-15j, 6.00626431e+00-1.60818330e-01j,\n",
       "        6.08083912e+00-4.06647521e-15j, 4.86055330e+00+1.70314758e-15j,\n",
       "        5.61957983e+00+1.75760075e-01j, 5.61957983e+00-1.75760075e-01j,\n",
       "        5.85475939e+00+9.47883416e-02j, 5.85475939e+00-9.47883416e-02j,\n",
       "        5.94624394e+00-5.44725934e-15j, 5.90683065e+00+8.04334787e-15j,\n",
       "        5.22817027e+00-5.85966470e-02j, 5.22817027e+00+5.85966470e-02j,\n",
       "        4.92170409e+00-2.24213789e-15j, 5.06987986e+00-7.99051677e-02j,\n",
       "        5.40278484e+00-8.83519647e-16j, 5.77235838e+00+4.26151148e-02j,\n",
       "        5.77235838e+00-4.26151148e-02j, 5.26058937e+00+8.05251595e-16j,\n",
       "        5.06987986e+00+7.99051677e-02j, 4.97670031e+00-3.44840635e-02j,\n",
       "        5.05920312e+00-3.93630950e-02j, 4.95862840e+00-2.89266954e-15j,\n",
       "        4.97670031e+00+3.44840635e-02j, 5.05920312e+00+3.93630950e-02j,\n",
       "        5.59982792e+00-3.94981842e-02j, 5.69711151e+00-4.97377639e-16j,\n",
       "        5.52768932e+00-7.25406108e-03j, 5.52768932e+00+7.25406108e-03j,\n",
       "        5.04845525e+00-6.79719356e-17j, 5.59982792e+00+3.94981842e-02j]),\n",
       " array([[ 1.36963453e-01-3.57549859e-01j,  4.11951311e-01+0.00000000e+00j,\n",
       "         -8.81572305e-02+3.74685761e-01j, ...,\n",
       "          2.09147831e-03+4.82668942e-03j, -1.97247809e-02+2.18671081e-03j,\n",
       "          1.93501546e-03+2.05615105e-02j],\n",
       "        [-3.11856596e-04+1.05500191e-02j, -9.79362411e-03-1.69503897e-03j,\n",
       "          5.40680245e-03-7.34929530e-03j, ...,\n",
       "         -1.00510987e-03+2.87960652e-03j, -1.54948985e-02+1.92876841e-03j,\n",
       "          3.17404015e-03+1.09021684e-02j],\n",
       "        [ 3.49953884e-03-8.25463292e-03j, -4.38854386e-03+2.58250592e-04j,\n",
       "         -1.77273746e-03+7.92635666e-03j, ...,\n",
       "         -1.23771491e-02+5.96377515e-03j,  3.75929178e-03-1.62499050e-03j,\n",
       "          9.06913597e-04+3.29005504e-03j],\n",
       "        ...,\n",
       "        [ 4.79534581e-03-6.45283669e-04j, -6.39316691e-04-2.26758574e-02j,\n",
       "          1.06213345e-03+4.45757995e-04j, ...,\n",
       "          2.10073818e-02-1.09762872e-02j, -4.61984816e-03+5.72260197e-05j,\n",
       "          8.65536328e-04-5.53863306e-03j],\n",
       "        [-5.95234457e-02-3.32300149e-03j, -5.17574246e-03-5.43746803e-02j,\n",
       "         -6.24005189e-02+4.26590309e-03j, ...,\n",
       "         -2.63313927e-03+4.36762459e-04j,  1.86487272e-02+7.10353109e-03j,\n",
       "         -1.82414209e-02+7.10313999e-03j],\n",
       "        [-3.13509347e-01-1.75555848e-02j, -4.00367600e-02-2.67530978e-01j,\n",
       "         -3.07037692e-01+2.90919616e-02j, ...,\n",
       "         -5.38656382e-03+5.08118444e-03j,  1.76212247e-02+7.04540963e-03j,\n",
       "         -1.63565436e-02+1.30370196e-02j]]),\n",
       " array([[-1.25983558e+00+3.53213826e+00j, -3.67300347e+00-1.21514607e-01j,\n",
       "          9.95027067e-01-3.58274979e+00j, ...,\n",
       "          2.82934947e-05+1.22254345e-03j,  2.75883485e-03-1.40459323e-03j,\n",
       "         -4.40775924e-04+1.31657195e-03j],\n",
       "        [-5.34636653e-02+1.31758909e-01j, -1.27937001e-01-1.60863789e-04j,\n",
       "          3.63269592e-02-1.55452719e-01j, ...,\n",
       "         -4.70181815e-03-1.27597269e-02j, -4.84989450e-04-4.15996978e-03j,\n",
       "         -1.85104964e-03-1.47834626e-02j],\n",
       "        [-9.28836910e-03+3.16024633e-02j, -2.53080228e-02-1.37331908e-03j,\n",
       "          1.28117144e-02-3.93232097e-02j, ...,\n",
       "          6.63901183e-03-4.59219144e-03j, -2.11994813e-02+2.38368546e-02j,\n",
       "          1.66402006e-03-5.05448654e-02j],\n",
       "        ...,\n",
       "        [-5.37527541e-02+1.23562878e-03j, -1.95328215e-03-6.14531441e-02j,\n",
       "         -6.04347185e-02-3.11155810e-04j, ...,\n",
       "         -1.11109324e-03-1.32489119e-03j, -2.57028094e-03-1.01902375e-03j,\n",
       "         -2.21647503e-02+1.73920145e-02j],\n",
       "        [-2.64177910e-01+8.49447187e-03j, -1.13704029e-02-2.36001883e-01j,\n",
       "         -2.90332165e-01-3.88055381e-03j, ...,\n",
       "          1.63098642e-04+1.97732760e-03j, -2.80418328e-03-1.91885530e-03j,\n",
       "         -1.06497329e-02+1.00954971e-02j],\n",
       "        [-3.69702738e+00-1.00687839e-01j, -3.48439895e-01-3.58059107e+00j,\n",
       "         -3.67221491e+00+1.62574472e-01j, ...,\n",
       "         -1.28402401e-03+1.87595630e-03j, -1.06211688e-03-1.35217384e-03j,\n",
       "          2.31387310e-04+4.18646242e-04j]]))"
      ]
     },
     "execution_count": 11,
     "metadata": {},
     "output_type": "execute_result"
    }
   ],
   "source": [
    "bars.eigs(freq, k, p, N_modes)"
   ]
  },
  {
   "cell_type": "code",
   "execution_count": null,
   "metadata": {},
   "outputs": [],
   "source": []
  }
 ],
 "metadata": {
  "kernelspec": {
   "display_name": "Python 3",
   "language": "python",
   "name": "python3"
  },
  "language_info": {
   "codemirror_mode": {
    "name": "ipython",
    "version": 3
   },
   "file_extension": ".py",
   "mimetype": "text/x-python",
   "name": "python",
   "nbconvert_exporter": "python",
   "pygments_lexer": "ipython3",
   "version": "3.8.2"
  }
 },
 "nbformat": 4,
 "nbformat_minor": 2
}
